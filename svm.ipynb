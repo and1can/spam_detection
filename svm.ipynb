{
 "cells": [
  {
   "cell_type": "code",
   "execution_count": 18,
   "metadata": {
    "collapsed": true
   },
   "outputs": [],
   "source": [
    "import scipy.io as sio\n",
    "import random\n",
    "import numpy as np\n",
    "from sklearn import svm \n",
    "from sklearn.metrics import confusion_matrix\n",
    "import matplotlib.pyplot as pt\n",
    "from math import exp\n"
   ]
  },
  {
   "cell_type": "code",
   "execution_count": 19,
   "metadata": {
    "collapsed": false
   },
   "outputs": [
    {
     "name": "stdout",
     "output_type": "stream",
     "text": [
      "{'training_labels': array([[1, 1, 1, ..., 0, 0, 0]]), '__version__': '1.0', 'training_data': array([[ 0.,  0.,  0., ...,  0.,  0.,  0.],\n",
      "       [ 0.,  0.,  0., ...,  0.,  0.,  0.],\n",
      "       [ 0.,  0.,  0., ...,  0.,  0.,  0.],\n",
      "       ..., \n",
      "       [ 0.,  0.,  0., ...,  0.,  0.,  0.],\n",
      "       [ 0.,  0.,  1., ...,  4.,  0.,  0.],\n",
      "       [ 0.,  0.,  0., ...,  2.,  0.,  0.]]), '__globals__': [], '__header__': b'MATLAB 5.0 MAT-file Platform: posix, Created on: Tue Jan 20 22:50:03 2015', 'test_data': array([[ 0.,  0.,  0., ...,  0.,  0.,  0.],\n",
      "       [ 0.,  0.,  0., ...,  0.,  0.,  0.],\n",
      "       [ 0.,  0.,  0., ...,  0.,  0.,  0.],\n",
      "       ..., \n",
      "       [ 0.,  0.,  0., ...,  0.,  0.,  0.],\n",
      "       [ 0.,  0.,  0., ...,  0.,  0.,  0.],\n",
      "       [ 0.,  0.,  0., ...,  3.,  0.,  0.]])}\n"
     ]
    }
   ],
   "source": [
    "train_contents = sio.loadmat('spam_data.mat')\n",
    "print(train_contents)\n",
    "\n",
    "X = train_contents['training_data']\n",
    "Y = train_contents['training_labels']\n",
    "\n",
    "indice = np.arange(4000)"
   ]
  },
  {
   "cell_type": "code",
   "execution_count": 20,
   "metadata": {
    "collapsed": false
   },
   "outputs": [
    {
     "name": "stdout",
     "output_type": "stream",
     "text": [
      "(5172, 32) (1, 5172)\n"
     ]
    }
   ],
   "source": [
    "print(X.shape, Y.shape)"
   ]
  },
  {
   "cell_type": "code",
   "execution_count": 21,
   "metadata": {
    "collapsed": false
   },
   "outputs": [
    {
     "name": "stdout",
     "output_type": "stream",
     "text": [
      "error is 0.2235494880546075\n"
     ]
    }
   ],
   "source": [
    "np.random.shuffle(indice)\n",
    "validation = indice[0:1172]\n",
    "valid_email = X[validation, :]\n",
    "valid_label = Y[:, validation]\n",
    "\n",
    "indice = indice[1172:]\n",
    "X = X[indice, :]\n",
    "Y = Y[:, indice]\n",
    "lin_clf = svm.SVC(C = exp(1e-06), kernel = \"linear\")\n",
    "Y = Y.T\n",
    "lin_clf.fit(X, np.ravel(Y))\n",
    "prediction = lin_clf.predict(valid_email)\n",
    "count = 0\n",
    "valid_label = valid_label.T\n",
    "for i in range(len(prediction)):\n",
    "    if (prediction[i] != valid_label[i]):\n",
    "        count += 1\n",
    "print(\"error is\", str(float(count)/1172))"
   ]
  },
  {
   "cell_type": "code",
   "execution_count": null,
   "metadata": {
    "collapsed": true
   },
   "outputs": [],
   "source": []
  }
 ],
 "metadata": {
  "kernelspec": {
   "display_name": "Python 3",
   "language": "python",
   "name": "python3"
  },
  "language_info": {
   "codemirror_mode": {
    "name": "ipython",
    "version": 3
   },
   "file_extension": ".py",
   "mimetype": "text/x-python",
   "name": "python",
   "nbconvert_exporter": "python",
   "pygments_lexer": "ipython3",
   "version": "3.5.0"
  }
 },
 "nbformat": 4,
 "nbformat_minor": 2
}
